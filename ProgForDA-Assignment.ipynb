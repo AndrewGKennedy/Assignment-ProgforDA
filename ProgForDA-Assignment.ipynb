{
 "cells": [
  {
   "cell_type": "markdown",
   "metadata": {},
   "source": [
    "## Introduction\n",
    "\n",
    "The purpose of this assignment is to explain the numpy.raddom package\n",
    "\n",
    "Raqndom number are a core part of Data Analysis, however there is really no such thing as a truly random number in the computing \n",
    "general world. In this assignment I will attempt to show some of the techniques to generate \"psudo\" random numbers using the \n",
    "Python  programming language [3] and its inbuilt package numpy.random [4] and its subroutines.\n",
    "\n",
    "Typically when not using excel, you could use these packages to generate more accurate numbers for large data, and shape it in to multi dimensional arrays.\n",
    "\n",
    "We will look at the standard simple random functions, then some \"Distributions\", and finally the use of \"seeds\"\n",
    "\n",
    "First we will import the package:"
   ]
  },
  {
   "cell_type": "markdown",
   "metadata": {},
   "source": [
    "## References \n",
    "### [1] Scipy reference on random routines \n",
    "https://docs.scipy.org/doc/numpy-1.13.0/reference/routines.random.html\n",
    "### [2] Interesting document on random number generation incl seeding\n",
    "https://pdfs.semanticscholar.org/6d7f/5255b1fc569eb96d91f66ac824d18e115e72.pdf\n",
    "### [3] Pythom home page\n",
    "http.python.org'\n",
    "### [4] Numpy home page\n",
    "http://numpy.org/\n",
    "\n",
    "### [5] Pseudorandom numbers\n",
    "https://en.wikipedia.org/wiki/Random_seed\n",
    "https://en.wikipedia.org/wiki/Random_seed\n",
    "\n",
    "### [6] Normal distribution\n",
    "https://en.wikipedia.org/wiki/Normal_distribution\n",
    "https://docs.scipy.org/doc/numpy-1.13.0/reference/generated/numpy.random.normal.html#numpy.random.normal\n",
    "\n",
    "### [7] Raleigh distribution\n",
    "http://www.brighton-webs.co.uk/distributions/rayleigh.asp\n"
   ]
  },
  {
   "cell_type": "code",
   "execution_count": 1,
   "metadata": {
    "collapsed": true
   },
   "outputs": [],
   "source": [
    "import numpy.random"
   ]
  },
  {
   "cell_type": "markdown",
   "metadata": {},
   "source": [
    "### Simple random data functons (standard definitions ref #1.)\n",
    "\n",
    "rand(d0, d1, ..., dn) \tRandom values in a given shape.simple distrubiton over a given array of numbers\n",
    "\n",
    "randn(d0, d1, ..., dn) \tReturn a sample (or samples) from the “standard normal” distribution.\n",
    "\n",
    "randint(low[, high, size, dtype]) \tReturn random integers from low (inclusive) to high (exclusive).\n",
    "\n",
    "random_integers(low[, high, size]) \tRandom integers of type np.int between low and high, inclusive.\n",
    "\n",
    "random_sample([size]) \tReturn random floats in the half-open interval [0.0, 1.0).\n",
    "\n",
    "random([size]) \tReturn random floats in the half-open interval [0.0, 1.0).\n",
    "\n",
    "ranf([size]) \tReturn random floats in the half-open interval [0.0, 1.0).\n",
    "\n",
    "sample([size]) \tReturn random floats in the half-open interval [0.0, 1.0).\n",
    "\n",
    "choice(a[, size, replace, p]) \tGenerates a random sample from a given 1-D array\n",
    "\n",
    "bytes(length) \tReturn random bytes.  \n",
    "\n",
    "Most of the functions below would be used for accountancy functions,\n",
    "or big data manipulation.\n"
   ]
  },
  {
   "cell_type": "markdown",
   "metadata": {},
   "source": [
    "### numpy.rand without and with arguments, multi dimensional array"
   ]
  },
  {
   "cell_type": "code",
   "execution_count": 2,
   "metadata": {},
   "outputs": [
    {
     "data": {
      "text/plain": [
       "0.4250144812035854"
      ]
     },
     "execution_count": 2,
     "metadata": {},
     "output_type": "execute_result"
    }
   ],
   "source": [
    "numpy.random.rand()"
   ]
  },
  {
   "cell_type": "code",
   "execution_count": 3,
   "metadata": {},
   "outputs": [
    {
     "data": {
      "text/plain": [
       "array([[ 0.12235862,  0.60492237,  0.05187935],\n",
       "       [ 0.80004535,  0.81269963,  0.92904232]])"
      ]
     },
     "execution_count": 3,
     "metadata": {},
     "output_type": "execute_result"
    }
   ],
   "source": [
    "numpy.random.rand(2,3)"
   ]
  },
  {
   "cell_type": "markdown",
   "metadata": {},
   "source": [
    "### numpy.randn No args, with args\n",
    "Return a sample (or samples) from the “standard normal” distribution."
   ]
  },
  {
   "cell_type": "code",
   "execution_count": 4,
   "metadata": {},
   "outputs": [
    {
     "data": {
      "text/plain": [
       "-0.9399875379529219"
      ]
     },
     "execution_count": 4,
     "metadata": {},
     "output_type": "execute_result"
    }
   ],
   "source": [
    "numpy.random.randn()"
   ]
  },
  {
   "cell_type": "markdown",
   "metadata": {},
   "source": [
    "With args Returns:\t\n",
    "\n",
    "Z : ndarray or float\n",
    "\n",
    "    A (d0, d1, ..., dn)-shaped array of floating-point samples from the standard normal distribution, \n",
    "    or a single such float if no parameters were supplied.\n",
    "\"Andrew.. to be honest I do not understand the difference from above...\""
   ]
  },
  {
   "cell_type": "code",
   "execution_count": 5,
   "metadata": {},
   "outputs": [
    {
     "data": {
      "text/plain": [
       "array([[-2.5902101 ,  3.47098089,  4.06591128,  2.93444516],\n",
       "       [ 1.83516222, -0.07206408,  1.76307733,  2.0192402 ]])"
      ]
     },
     "execution_count": 5,
     "metadata": {},
     "output_type": "execute_result"
    }
   ],
   "source": [
    "2.5 * numpy.random.randn(2, 4) + 3"
   ]
  },
  {
   "cell_type": "markdown",
   "metadata": {
    "collapsed": true
   },
   "source": [
    "## numpy.randint\n",
    "(low[, high, size, dtype]) \tReturn random integers from low (inclusive) to high (exclusive).\n",
    "Can give an array of randoms, single dimensional, between two numbers or multi dimensional\n"
   ]
  },
  {
   "cell_type": "code",
   "execution_count": 6,
   "metadata": {},
   "outputs": [
    {
     "data": {
      "text/plain": [
       "array([0, 1, 1, 2, 3, 3, 4, 2, 3, 4])"
      ]
     },
     "execution_count": 6,
     "metadata": {},
     "output_type": "execute_result"
    }
   ],
   "source": [
    "numpy.random.randint(5, size=10)"
   ]
  },
  {
   "cell_type": "code",
   "execution_count": 7,
   "metadata": {},
   "outputs": [
    {
     "data": {
      "text/plain": [
       "array([[2, 4, 1, 0],\n",
       "       [3, 0, 0, 0],\n",
       "       [4, 0, 3, 4]])"
      ]
     },
     "execution_count": 7,
     "metadata": {},
     "output_type": "execute_result"
    }
   ],
   "source": [
    "numpy.random.randint(5, size=(3, 4))"
   ]
  },
  {
   "cell_type": "markdown",
   "metadata": {},
   "source": [
    "## numpy.random_integers(low, high, size) \n",
    "Random integers of type int between low and high, inclusive.\n",
    "Either one dimensional or multi dimensional array\n",
    "Note size is indexed from 0.. random_integers was replaced by randit... "
   ]
  },
  {
   "cell_type": "code",
   "execution_count": 8,
   "metadata": {},
   "outputs": [
    {
     "data": {
      "text/plain": [
       "3"
      ]
     },
     "execution_count": 8,
     "metadata": {},
     "output_type": "execute_result"
    }
   ],
   "source": [
    "numpy.random.randint(1, 5 +1)"
   ]
  },
  {
   "cell_type": "markdown",
   "metadata": {},
   "source": [
    "## numpy.random_sample([size]) \t\n",
    "Return random floats in the half-open interval [0.0, 1.0).\n",
    "Caqn be passed 0 args for 1 number, a list (2 args) or an array shape.\n",
    "Can be passed arg for type, and negative numbers"
   ]
  },
  {
   "cell_type": "code",
   "execution_count": 9,
   "metadata": {},
   "outputs": [
    {
     "data": {
      "text/plain": [
       "0.6504027051776178"
      ]
     },
     "execution_count": 9,
     "metadata": {},
     "output_type": "execute_result"
    }
   ],
   "source": [
    "numpy.random.random_sample()"
   ]
  },
  {
   "cell_type": "code",
   "execution_count": 10,
   "metadata": {},
   "outputs": [
    {
     "data": {
      "text/plain": [
       "array([ 0.21429499,  0.25297042,  0.23896947,  0.4855855 ])"
      ]
     },
     "execution_count": 10,
     "metadata": {},
     "output_type": "execute_result"
    }
   ],
   "source": [
    "numpy.random.random_sample((4,))"
   ]
  },
  {
   "cell_type": "markdown",
   "metadata": {},
   "source": [
    "## numpy.random([size]) Return random floats in the half-open interval [0.0, 1.0).\n",
    "Basic random function. Returns an array of ints/floats, can be single, a list or a multidimentional array"
   ]
  },
  {
   "cell_type": "code",
   "execution_count": 11,
   "metadata": {},
   "outputs": [
    {
     "data": {
      "text/plain": [
       "0.5483393821084896"
      ]
     },
     "execution_count": 11,
     "metadata": {},
     "output_type": "execute_result"
    }
   ],
   "source": [
    "numpy.random.random_sample()\n"
   ]
  },
  {
   "cell_type": "markdown",
   "metadata": {},
   "source": [
    "## numpy.random.ranf Return random floats in the half-open interval [0.0, 1.0)"
   ]
  },
  {
   "cell_type": "code",
   "execution_count": 12,
   "metadata": {},
   "outputs": [
    {
     "ename": "SyntaxError",
     "evalue": "invalid syntax (<ipython-input-12-6c43a7a5835d>, line 2)",
     "output_type": "error",
     "traceback": [
      "\u001b[1;36m  File \u001b[1;32m\"<ipython-input-12-6c43a7a5835d>\"\u001b[1;36m, line \u001b[1;32m2\u001b[0m\n\u001b[1;33m    Array of random floats of shape size (unless size=None, in which case a single float is returned).\u001b[0m\n\u001b[1;37m           ^\u001b[0m\n\u001b[1;31mSyntaxError\u001b[0m\u001b[1;31m:\u001b[0m invalid syntax\n"
     ]
    }
   ],
   "source": [
    "(b - a) * random_sample() + a\n",
    "Array of random floats of shape size (unless size=None, in which case a single float is returned)."
   ]
  },
  {
   "cell_type": "markdown",
   "metadata": {},
   "source": [
    "## sample([size]) Return random floats in the half-open interval [0.0, 1.0)."
   ]
  },
  {
   "cell_type": "code",
   "execution_count": null,
   "metadata": {
    "collapsed": true
   },
   "outputs": [],
   "source": [
    "Return random floats in the half-open interval [0.0, 1.0)."
   ]
  },
  {
   "cell_type": "markdown",
   "metadata": {},
   "source": [
    "## choice(a[, size, replace, p]) Generates a random sample from a given 1-D array"
   ]
  },
  {
   "cell_type": "code",
   "execution_count": null,
   "metadata": {
    "collapsed": true
   },
   "outputs": [],
   "source": [
    "Generates a random sample from a given 1-D array"
   ]
  },
  {
   "cell_type": "markdown",
   "metadata": {},
   "source": [
    "## bytes(length) Return random bytes."
   ]
  },
  {
   "cell_type": "code",
   "execution_count": null,
   "metadata": {
    "collapsed": true
   },
   "outputs": [],
   "source": [
    "    Return random bytes.\n",
    "    Parameters:\t\n",
    "\n",
    "    length : int\n",
    "\n",
    "        Number of random bytes.\n",
    "\n",
    "    Returns:\t\n",
    "\n",
    "    out : str\n",
    "\n",
    "        String of length length.\n",
    "\n",
    "    Examples\n",
    "\n",
    "    >>> np.random.bytes(10)\n",
    "    ' eh\\x85\\x022SZ\\xbf\\xa4' #random\n",
    "\n"
   ]
  },
  {
   "cell_type": "markdown",
   "metadata": {},
   "source": [
    "## Permutations\n",
    "\n",
    "Two little fairly basic libs dont really do much, just shuffle stuff around.\n",
    "\n",
    "shuffle(x) \tModify a sequence in-place by shuffling its contents.\n",
    "\n",
    "permutation(x) \tRandomly permute a sequence, or return a permuted range."
   ]
  },
  {
   "cell_type": "markdown",
   "metadata": {
    "collapsed": true
   },
   "source": [
    "### numpy.random.shuffle\n",
    "This function only shuffles the array along the first axis of a multi-dimensional array. \n",
    "The order of sub-arrays is changed but their contents remains the same.  Could be useful for\n",
    "\"mixing up known data\" like employee numbers etc... "
   ]
  },
  {
   "cell_type": "code",
   "execution_count": null,
   "metadata": {},
   "outputs": [],
   "source": [
    "arr = numpy.arange(10)\n",
    "numpy.random.shuffle(arr)\n",
    "arr"
   ]
  },
  {
   "cell_type": "markdown",
   "metadata": {},
   "source": [
    "### Permutation(n.nnn) \n",
    "Randomly permute a sequence, or return a permuted range.  Can be a list or a multi dimensional array\n",
    "Actually this one would be better for above scenario, if you can pass in a list by pointer."
   ]
  },
  {
   "cell_type": "code",
   "execution_count": null,
   "metadata": {},
   "outputs": [],
   "source": [
    "numpy.random.permutation([1, 6, 3, 12, 15])"
   ]
  },
  {
   "cell_type": "markdown",
   "metadata": {},
   "source": [
    "## Distributions"
   ]
  },
  {
   "cell_type": "markdown",
   "metadata": {},
   "source": [
    "## normal([loc, scale, size]) \tDraw random samples from a normal (Gaussian) distribution.\n",
    "\n"
   ]
  },
  {
   "cell_type": "code",
   "execution_count": null,
   "metadata": {},
   "outputs": [],
   "source": [
    "This is used to demonstrate what they call \"Normal Distribution\" Ref [6], or very commonly \n",
    "a bell curve, where some factors and influences will make a peak curve then tail off.. tail off, typically with\n",
    "a big input, factors will peak, and then tail off.\n",
    "\n",
    "<img src =\"nrq.png\">\n"
   ]
  },
  {
   "cell_type": "markdown",
   "metadata": {},
   "source": []
  },
  {
   "cell_type": "markdown",
   "metadata": {},
   "source": [
    "\n",
    "## pareto(a[, size]) \tDraw samples from a Pareto II or Lomax distribution with specified shape [Ref 6]Wikipedia\n",
    "\"The 80/20 rule\"\n",
    "\n",
    "The Pareto distribution, named after the Italian civil engineer, economist, and sociologist Vilfredo Pareto, \n",
    "is a power-law probability distribution that is used in description of social, scientific, geophysical, \n",
    "actuarial, and many other types of observable phenomena. \n",
    "Originally applied to describing the distribution of wealth in a society, fitting the trend that a large\n",
    "portion of wealth is held by a small fraction of the population, \n",
    "the Pareto distribution has colloquially become known and referred to as the Pareto principle, \n",
    "or \"80-20 rule\", and is sometimes called the \"Matthew principle\". \n",
    "This rule states that, for example, 80% of the wealth of a society is held by 20% of its population. \n",
    "However, the Pareto distribution only produces this result for a particular power value, \n"
   ]
  },
  {
   "cell_type": "markdown",
   "metadata": {},
   "source": [
    "## poisson([lam, size]) \t.  A probability theory, given over a space of time\n",
    "\n",
    "(Wikipedia [6]) For instance, an individual keeping track of the amount of mail they receive each \n",
    "day may notice that they receive an average number of 4 letters per day. \n",
    "If receiving any particular piece of mail does not affect the arrival times of future pieces of mail, \n",
    "i.e., if pieces of mail from a wide range of sources arrive independently of one another, \n",
    "then a reasonable assumption is that the number of pieces of mail received in a day obeys a Poisson distribution.\n",
    "\n",
    "Other examples that may follow a Poisson include the number of phone calls received by a call center per hour \n",
    "and the number of decay events per second from a radioactive source. "
   ]
  },
  {
   "cell_type": "markdown",
   "metadata": {},
   "source": [
    "power(a[, size]) \tDraws samples in [0, 1] from a power distribution with positive exponent a - \n",
    "\n",
    "The power function distribution is just the inverse of the Pareto distribution. It may also be seen as a special case of the Beta distribution.\n",
    "\n",
    "It is used, for example, in modeling the over-reporting of insurance claims. (Wikipedia [6])"
   ]
  },
  {
   "cell_type": "code",
   "execution_count": null,
   "metadata": {
    "collapsed": true
   },
   "outputs": [],
   "source": [
    "rayleigh([scale, size]) \tDraw samples from a Rayleigh distribution.\n",
    "\n",
    "Used for gale force measurment.\n",
    "\n",
    "\n",
    "The Rayleigh distribution would arise, for example, if the East and North components of the wind velocity had identical \n",
    "zero-mean Gaussian ( see normal distribution above.. ) distributions. \n",
    "Then the wind speed would have a Rayleigh distribution.\n",
    "Ref [7] "
   ]
  },
  {
   "cell_type": "markdown",
   "metadata": {},
   "source": [
    "## Number generators"
   ]
  },
  {
   "cell_type": "markdown",
   "metadata": {},
   "source": [
    "### seed([seed]) \tSeed the generator."
   ]
  },
  {
   "cell_type": "markdown",
   "metadata": {},
   "source": [
    "\n",
    "\n",
    "It is used, for example, in modeling the over-reporting of insurance claims.\n",
    "Reference [5]Wikipedia\n",
    "A random seed (or seed state, or just seed) is a number (or vector) used to initialize a pseudorandom number generator.\n",
    "\n",
    "For a seed to be used in a pseudorandom number generator, it does not need to be random. \n",
    "Because of the nature of number generating algorithms, so long as the original seed is ignored, \n",
    "the rest of the values that the algorithm generates will follow probability distribution in a pseudorandom manner.\n",
    "The choice of a good random seed is crucial in the field of computer security. \n",
    "When a secret encryption key is pseudorandomly generated, having the seed will allow one to obtain the key. \n",
    "High entropy is important for selecting good random seed data.[1]\n",
    "If the same random seed is deliberately shared, it becomes a secret key, so two or more systems \n",
    "using matching pseudorandom number algorithms \n",
    "and matching seeds can generate matching sequences of non-repeating \n",
    "numbers which can be used to synchronize remote systems, such as GPS satellites and receivers.\n",
    "Random seeds are often generated from the state of the computer system (such as the time), \n",
    "a cryptographically secure pseudorandom number generator or from a hardware random number generation.\n",
    "\n"
   ]
  },
  {
   "cell_type": "code",
   "execution_count": null,
   "metadata": {
    "collapsed": true
   },
   "outputs": [],
   "source": []
  }
 ],
 "metadata": {
  "kernelspec": {
   "display_name": "Python 3",
   "language": "python",
   "name": "python3"
  },
  "language_info": {
   "codemirror_mode": {
    "name": "ipython",
    "version": 3
   },
   "file_extension": ".py",
   "mimetype": "text/x-python",
   "name": "python",
   "nbconvert_exporter": "python",
   "pygments_lexer": "ipython3",
   "version": "3.6.3"
  }
 },
 "nbformat": 4,
 "nbformat_minor": 2
}
