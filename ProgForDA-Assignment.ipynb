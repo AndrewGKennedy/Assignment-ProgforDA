{
 "cells": [
  {
   "cell_type": "markdown",
   "metadata": {},
   "source": [
    "## References \n",
    "### [1] Scipy reference on random routines \n",
    "https://docs.scipy.org/doc/numpy-1.13.0/reference/routines.random.html\n",
    "### [2] Interesting document on random number generation\n",
    "https://pdfs.semanticscholar.org/6d7f/5255b1fc569eb96d91f66ac824d18e115e72.pdf\n",
    "### [3] Pythom home page\n",
    "http.python.org\n",
    "### [4] Numpy home page\n",
    "http://numpy.org/"
   ]
  },
  {
   "cell_type": "markdown",
   "metadata": {},
   "source": [
    "## Introduction\n",
    "\n",
    "The purpose of this assignment is to explain the numpy.raddom package\n",
    "\n",
    "Raqndom number are a core part of Data Analysis, however there is really no such thing as a truly random number in the computing \n",
    "general world. In this assignment I will attempt to show some of the techniques to generate \"psudo\" random numbers using the \n",
    "Python  programming language [3] and its inbuilt package numpy.random [4] and its subroutines.\n",
    "\n",
    "First we will import the package:"
   ]
  },
  {
   "cell_type": "code",
   "execution_count": 2,
   "metadata": {
    "collapsed": true
   },
   "outputs": [],
   "source": [
    "import numpy.random"
   ]
  },
  {
   "cell_type": "markdown",
   "metadata": {},
   "source": [
    "### Simple random data functons (standard definitions ref #1.)\n",
    "\n",
    "rand(d0, d1, ..., dn) \tRandom values in a given shape.simple distrubiton over a given array of numbers\n",
    "\n",
    "randn(d0, d1, ..., dn) \tReturn a sample (or samples) from the “standard normal” distribution.\n",
    "\n",
    "randint(low[, high, size, dtype]) \tReturn random integers from low (inclusive) to high (exclusive).\n",
    "\n",
    "random_integers(low[, high, size]) \tRandom integers of type np.int between low and high, inclusive.\n",
    "\n",
    "random_sample([size]) \tReturn random floats in the half-open interval [0.0, 1.0).\n",
    "\n",
    "random([size]) \tReturn random floats in the half-open interval [0.0, 1.0).\n",
    "\n",
    "ranf([size]) \tReturn random floats in the half-open interval [0.0, 1.0).\n",
    "\n",
    "sample([size]) \tReturn random floats in the half-open interval [0.0, 1.0).\n",
    "\n",
    "choice(a[, size, replace, p]) \tGenerates a random sample from a given 1-D array\n",
    "\n",
    "bytes(length) \tReturn random bytes.\n"
   ]
  },
  {
   "cell_type": "markdown",
   "metadata": {},
   "source": [
    "### numpy.rand without and with arguments, multi dimensional array"
   ]
  },
  {
   "cell_type": "code",
   "execution_count": 5,
   "metadata": {},
   "outputs": [
    {
     "data": {
      "text/plain": [
       "0.28060732473556727"
      ]
     },
     "execution_count": 5,
     "metadata": {},
     "output_type": "execute_result"
    }
   ],
   "source": [
    "numpy.random.rand()"
   ]
  },
  {
   "cell_type": "code",
   "execution_count": 7,
   "metadata": {},
   "outputs": [
    {
     "data": {
      "text/plain": [
       "array([[ 0.27295095,  0.36108175,  0.19236885],\n",
       "       [ 0.79406537,  0.52904063,  0.52012201]])"
      ]
     },
     "execution_count": 7,
     "metadata": {},
     "output_type": "execute_result"
    }
   ],
   "source": [
    "numpy.random.rand(2,3)"
   ]
  },
  {
   "cell_type": "markdown",
   "metadata": {},
   "source": [
    "### numpy.randn No args, with args"
   ]
  },
  {
   "cell_type": "code",
   "execution_count": 9,
   "metadata": {},
   "outputs": [
    {
     "data": {
      "text/plain": [
       "0.1982759471681981"
      ]
     },
     "execution_count": 9,
     "metadata": {},
     "output_type": "execute_result"
    }
   ],
   "source": [
    "numpy.random.randn() "
   ]
  },
  {
   "cell_type": "markdown",
   "metadata": {},
   "source": [
    "With args Returns:\t\n",
    "\n",
    "Z : ndarray or float\n",
    "\n",
    "    A (d0, d1, ..., dn)-shaped array of floating-point samples from the standard normal distribution, \n",
    "    or a single such float if no parameters were supplied.\n",
    "\"Andrew.. to be honest I do not understand the difference from above...\""
   ]
  },
  {
   "cell_type": "code",
   "execution_count": 13,
   "metadata": {},
   "outputs": [
    {
     "data": {
      "text/plain": [
       "array([[-0.73215198, -0.40405182,  5.28335919,  2.11348875],\n",
       "       [-0.24466672,  5.2944557 , -1.00564095,  0.41622271]])"
      ]
     },
     "execution_count": 13,
     "metadata": {},
     "output_type": "execute_result"
    }
   ],
   "source": [
    "2.5 * numpy.random.randn(2, 4) + 3"
   ]
  },
  {
   "cell_type": "markdown",
   "metadata": {},
   "source": [
    "### Permutations\n",
    "shuffle(x) \tModify a sequence in-place by shuffling its contents.\n",
    "\n",
    "permutation(x) \tRandomly permute a sequence, or return a permuted range."
   ]
  },
  {
   "cell_type": "code",
   "execution_count": null,
   "metadata": {
    "collapsed": true
   },
   "outputs": [],
   "source": []
  }
 ],
 "metadata": {
  "kernelspec": {
   "display_name": "Python 3",
   "language": "python",
   "name": "python3"
  },
  "language_info": {
   "codemirror_mode": {
    "name": "ipython",
    "version": 3
   },
   "file_extension": ".py",
   "mimetype": "text/x-python",
   "name": "python",
   "nbconvert_exporter": "python",
   "pygments_lexer": "ipython3",
   "version": "3.6.3"
  }
 },
 "nbformat": 4,
 "nbformat_minor": 2
}
