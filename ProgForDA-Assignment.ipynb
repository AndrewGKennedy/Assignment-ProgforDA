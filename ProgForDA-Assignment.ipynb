{
 "cells": [
  {
   "cell_type": "markdown",
   "metadata": {},
   "source": [
    "## References \n",
    "### [1] Scipy reference on random routines \n",
    "https://docs.scipy.org/doc/numpy-1.13.0/reference/routines.random.html\n",
    "### [2] Interesting document on random number generation\n",
    "https://pdfs.semanticscholar.org/6d7f/5255b1fc569eb96d91f66ac824d18e115e72.pdf\n",
    "### [3] Pythom home page\n",
    "http.python.org\n",
    "### [4] Numpy home page\n",
    "http://numpy.org/"
   ]
  },
  {
   "cell_type": "markdown",
   "metadata": {},
   "source": [
    "## Introduction\n",
    "\n",
    "The purpose of this assignment is to explain the numpy.raddom package\n",
    "\n",
    "Raqndom number are a core part of Data Analysis, however there is really no such thing as a truly random number in the computing \n",
    "general world. In this assignment I will attempt to show some of the techniques to generate \"psudo\" random numbers using the \n",
    "Python  programming language [3] and its inbuilt package numpy.random [4] and its subroutines."
   ]
  },
  {
   "cell_type": "markdown",
   "metadata": {},
   "source": [
    "### Simple random data functons\n",
    "\n",
    "rand(d0, d1, ..., dn) \tRandom values in a given shape.\n",
    "\n",
    "randn(d0, d1, ..., dn) \tReturn a sample (or samples) from the “standard normal” distribution.\n",
    "\n",
    "randint(low[, high, size, dtype]) \tReturn random integers from low (inclusive) to high (exclusive).\n",
    "\n",
    "random_integers(low[, high, size]) \tRandom integers of type np.int between low and high, inclusive.\n",
    "\n",
    "random_sample([size]) \tReturn random floats in the half-open interval [0.0, 1.0).\n",
    "\n",
    "random([size]) \tReturn random floats in the half-open interval [0.0, 1.0).\n",
    "\n",
    "ranf([size]) \tReturn random floats in the half-open interval [0.0, 1.0).\n",
    "\n",
    "sample([size]) \tReturn random floats in the half-open interval [0.0, 1.0).\n",
    "\n",
    "choice(a[, size, replace, p]) \tGenerates a random sample from a given 1-D array\n",
    "\n",
    "bytes(length) \tReturn random bytes.\n"
   ]
  },
  {
   "cell_type": "markdown",
   "metadata": {},
   "source": [
    "### Permutations\n",
    "shuffle(x) \tModify a sequence in-place by shuffling its contents.\n",
    "permutation(x) \tRandomly permute a sequence, or return a permuted range."
   ]
  },
  {
   "cell_type": "code",
   "execution_count": null,
   "metadata": {
    "collapsed": true
   },
   "outputs": [],
   "source": []
  }
 ],
 "metadata": {
  "kernelspec": {
   "display_name": "Python 3",
   "language": "python",
   "name": "python3"
  },
  "language_info": {
   "codemirror_mode": {
    "name": "ipython",
    "version": 3
   },
   "file_extension": ".py",
   "mimetype": "text/x-python",
   "name": "python",
   "nbconvert_exporter": "python",
   "pygments_lexer": "ipython3",
   "version": "3.6.3"
  }
 },
 "nbformat": 4,
 "nbformat_minor": 2
}
